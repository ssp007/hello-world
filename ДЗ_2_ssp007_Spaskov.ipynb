{
 "cells": [
  {
   "cell_type": "markdown",
   "metadata": {},
   "source": [
    "Домашнее задание 2.1"
   ]
  },
  {
   "cell_type": "markdown",
   "metadata": {},
   "source": [
    "reviews = [\"\"\"Телефон абонента: +7 916 000 00 01\n",
    "Время: 10:34\n",
    "Дата: 20.05.2017\n",
    "Оценка: 1\n",
    "Длительность разговора (мин.): 0:32\n",
    "Комментарий: Общение с сотрудником вашей техподдержки мне не понравилось. Раньше всегда отвечала девушка с приятным голосом, а сегодня какой-то мужчина. Совсем никуда не годится, примите меры!!!\"\"\",\n",
    "\"\"\"Телефон абонента: +7 916 000 00 02\n",
    "Время: 9:20\n",
    "Дата: 21.05.2017\n",
    "Оценка: 5\n",
    "Длительность разговора (мин.): 25:07\n",
    "Комментарий: С моей проблемой мне помогли, большое спасибо!\"\"\"]"
   ]
  },
  {
   "cell_type": "markdown",
   "metadata": {},
   "source": [
    "Сформируйте на основе этого массива словарь my_base, в котором по ключу в виде строки с телефоном абонента будет храниться другой словарь. Внутренний словарь по ключам в виде названий полей отзыва должен хранить значение полей (в виде строк). Например, код ниже должен выдать True:\n",
    "my_base['+7 916 000 00 01']['Дата'] == '20.05.2017'"
   ]
  },
  {
   "cell_type": "markdown",
   "metadata": {},
   "source": [
    "Решение:"
   ]
  },
  {
   "cell_type": "code",
   "execution_count": 1,
   "metadata": {
    "collapsed": false
   },
   "outputs": [
    {
     "name": "stdout",
     "output_type": "stream",
     "text": [
      "20.05.2017\n"
     ]
    }
   ],
   "source": [
    "reviews = [\"\"\"Телефон абонента: +7 916 000 00 01\n",
    "Время: 10:34\n",
    "Дата: 20.05.2017\n",
    "Оценка: 1\n",
    "Длительность разговора (мин.): 0:32\n",
    "Комментарий: Общение с сотрудником вашей техподдержки мне не понравилось. Раньше всегда отвечала девушка с приятным голосом, а сегодня какой-то мужчина. Совсем никуда не годится, примите меры!!!\"\"\",\n",
    "\"\"\"Телефон абонента: +7 916 000 00 02\n",
    "Время: 9:20\n",
    "Дата: 21.05.2017\n",
    "Оценка: 5\n",
    "Длительность разговора (мин.): 25:07\n",
    "Комментарий: С моей проблемой мне помогли, большое спасибо!\"\"\"]\n",
    "\n",
    "my_base = dict()\n",
    "for review in reviews:\n",
    "  splitted_review_by_line_breaks = review.split('\\n')\n",
    "  phone_number = splitted_review_by_line_breaks[0].split(':')[1][1:]\n",
    "  review_data = dict()\n",
    "  for review_line in splitted_review_by_line_breaks[1:]:\n",
    "    review_line_as_array = review_line.split(':')\n",
    "    review_data[review_line_as_array[0]] = review_line_as_array[1][1:]\n",
    "  my_base[phone_number] = review_data\n",
    "  \n",
    "if my_base['+7 916 000 00 01']['Дата'] == '20.05.2017':\n",
    "  print my_base['+7 916 000 00 01']['Дата']    "
   ]
  },
  {
   "cell_type": "code",
   "execution_count": null,
   "metadata": {
    "collapsed": true
   },
   "outputs": [],
   "source": []
  }
 ],
 "metadata": {
  "kernelspec": {
   "display_name": "Python 2",
   "language": "python",
   "name": "python2"
  },
  "language_info": {
   "codemirror_mode": {
    "name": "ipython",
    "version": 2
   },
   "file_extension": ".py",
   "mimetype": "text/x-python",
   "name": "python",
   "nbconvert_exporter": "python",
   "pygments_lexer": "ipython2",
   "version": "2.7.13"
  }
 },
 "nbformat": 4,
 "nbformat_minor": 2
}
