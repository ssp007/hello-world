{
 "cells": [
  {
   "cell_type": "markdown",
   "metadata": {},
   "source": [
    "Домашнее задание 3.1."
   ]
  },
  {
   "cell_type": "markdown",
   "metadata": {},
   "source": [
    "Напишите функцию, которая принимает список чисел my_list (количество товаров разных марок) и число $n$ и возвращает сумму всех чисел списка меньше либо равных $n$ (суммарное количество товаров, которых в наличие меньше либо равно $n$)."
   ]
  },
  {
   "cell_type": "code",
   "execution_count": 28,
   "metadata": {
    "collapsed": false
   },
   "outputs": [
    {
     "name": "stdout",
     "output_type": "stream",
     "text": [
      "31\n",
      "20\n",
      "12\n",
      "18\n",
      "9\n",
      "0\n"
     ]
    }
   ],
   "source": [
    "def function_1_1(my_list, n):\n",
    "  res = 0\n",
    "  for x in my_list:\n",
    "    if x <= n:\n",
    "      res += x\n",
    "  return res\n",
    "    \n",
    "print function_1_1([1, 2, 3, 4, 5, 6, 3, 7], 7)\n",
    "print function_1_1([1, 2, 3, 4, 4, 3, 2, 1], 7)\n",
    "print function_1_1([1, 2, 3, 4, 4, 3, 2, 1], 3)\n",
    "print function_1_1([1, 2, 3, 4, 5, 6, 3, 7], 5)\n",
    "print function_1_1([1, 2, 3, 4, 5, 6, 3, 7], 3)\n",
    "print function_1_1([1, 2, 3, 4, 5, 6, 3, 7], 0)"
   ]
  },
  {
   "cell_type": "markdown",
   "metadata": {},
   "source": [
    "Домашнее задание 3.2"
   ]
  },
  {
   "cell_type": "markdown",
   "metadata": {},
   "source": [
    "Имеется список пар (фамилия, долг) my_list и число dept. Нужно написать функцию, которая для каждой фамилии находит суммарный долг и выводит отсортированный список фамилий, у которых долг строго больше dept.\n",
    "Одна и та же фамилия может встречаться несколько раз, и тогда долги по ней суммируются."
   ]
  },
  {
   "cell_type": "code",
   "execution_count": 29,
   "metadata": {
    "collapsed": false
   },
   "outputs": [
    {
     "name": "stdout",
     "output_type": "stream",
     "text": [
      "['Ivanov', 'Petrov', 'Sidorov']\n",
      "['Ivanov', 'Sidorov']\n",
      "['Sidorov']\n",
      "[]\n",
      "['Sidorov']\n",
      "['Ivanov', 'Petrov']\n",
      "['Petrov']\n"
     ]
    }
   ],
   "source": [
    "def function_1_2(my_list, debt):\n",
    "  FIO = dict()\n",
    "  total_debt = []\n",
    "  for x in my_list:\n",
    "    if x[0] in FIO:\n",
    "      FIO[x[0]] += x[1]\n",
    "    else:\n",
    "      FIO[x[0]] = x[1]\n",
    "    if FIO[x[0]] > debt:\n",
    "      total_debt.append(x[0])\n",
    "    total_debt.sort()\n",
    "  return total_debt\n",
    "        \n",
    "print function_1_2([('Ivanov', 1), ('Petrov', 2), ('Ivanov', 2), ('Sidorov', 4)], 1)\n",
    "print function_1_2([('Ivanov', 1), ('Petrov', 2), ('Ivanov', 2), ('Sidorov', 4)], 2)\n",
    "print function_1_2([('Ivanov', 1), ('Petrov', 2), ('Ivanov', 2), ('Sidorov', 4)], 3)\n",
    "print function_1_2([('Ivanov', 1), ('Petrov', 2), ('Ivanov', 2), ('Sidorov', 4)], 4)\n",
    "print function_1_2([('Ivanov', 1), ('Petrov', 2), ('Ivanov', 1), ('Sidorov', 4)], 2)\n",
    "print function_1_2([('Ivanov', 1), ('Petrov', 2), ('Ivanov', 2), ('Petrov', 4)], 2)\n",
    "print function_1_2([('Ivanov', 1), ('Petrov', 2), ('Ivanov', 2), ('Petrov', 4)], 3)"
   ]
  },
  {
   "cell_type": "code",
   "execution_count": null,
   "metadata": {
    "collapsed": true
   },
   "outputs": [],
   "source": []
  }
 ],
 "metadata": {
  "kernelspec": {
   "display_name": "Python 2",
   "language": "python",
   "name": "python2"
  },
  "language_info": {
   "codemirror_mode": {
    "name": "ipython",
    "version": 2
   },
   "file_extension": ".py",
   "mimetype": "text/x-python",
   "name": "python",
   "nbconvert_exporter": "python",
   "pygments_lexer": "ipython2",
   "version": "2.7.13"
  }
 },
 "nbformat": 4,
 "nbformat_minor": 2
}
